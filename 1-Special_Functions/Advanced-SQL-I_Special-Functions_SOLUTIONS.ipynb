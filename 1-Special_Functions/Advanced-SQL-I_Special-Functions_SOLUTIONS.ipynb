{
 "cells": [
  {
   "cell_type": "markdown",
   "metadata": {},
   "source": [
    "# Advanced SQL I: Special Functions\n",
    "_**Author**: Boom Devahastin Na Ayudhya_\n",
    "***"
   ]
  },
  {
   "cell_type": "markdown",
   "metadata": {},
   "source": [
    "Throughout this entire session, we'll be running the queries in PostgreSQL. This Jupyter Notebook will just be a written record of what we've learned so that you'll have all of these functions in one location.\n",
    "\n",
    "Note that **THIS IS BY NO MEANS AN EXHAUSTIVE LIST** -- I have cherry-picked the ones that are commonly asked in interviews and/or useful on the job from my experience."
   ]
  },
  {
   "cell_type": "markdown",
   "metadata": {},
   "source": [
    "### Preparation\n",
    "\n",
    "You should have already downloaded [PostgreSQL](https://www.enterprisedb.com/downloads/postgres-postgresql-downloads). Make sure you have **pgAdmin 4** set up and that you've loaded the `GoT Schemas`."
   ]
  },
  {
   "cell_type": "markdown",
   "metadata": {},
   "source": [
    "## Contents\n",
    "**I. String Manipulation**\n",
    "- [`UPPER()`](#UPPER())\n",
    "- [`LOWER()`](#LOWER())\n",
    "- [`INITCAP()`](#LOWER())\n",
    "- [`LENGTH()`](#LENGTH())\n",
    "- [`TRIM()`](#TRIM())\n",
    "- [`SUBSTRING()`](#SUBSTRING())\n",
    "- [Concatenation Methods](#Concatenation)\n",
    "- [`REPLACE()`](#REPLACE())\n",
    "- [`COALESCE()`](#COALESCE())\n",
    "\n",
    "**II. Conditionals**\n",
    "- [Boolean Statements](#Boolean-Statements)\n",
    "- [`CASE WHEN`](#CASE-WHEN)\n",
    "\n",
    "**III. Date-Time Manipulation**\n",
    "- [Type Conversion](#Type-Conversion)\n",
    "- [`EXTRACT()`](#EXTRACT())"
   ]
  },
  {
   "cell_type": "markdown",
   "metadata": {},
   "source": [
    "## I. String Manipulation"
   ]
  },
  {
   "cell_type": "markdown",
   "metadata": {},
   "source": [
    "### `LOWER()`\n",
    "This is the same as the `.lower()` method for strings in Python used to convert every letter in a string to lower case\n",
    "\n",
    "_Example_: Convert all letters of the string `HeLlO, wOrLd!` to lower case\n",
    "```MySQL\n",
    "SELECT LOWER('HeLlO, wOrLd!')\n",
    "```\n",
    "\n",
    "**DISCUSS:** Why do you think this can be useful? Does case matter in SQL?\n",
    "\n",
    "\n",
    "**THINK:** Consider the following queries. Which of these will run? <br>\n",
    "(A) `SELECT first_name FROM people WHERE first_name = 'eddard'` <br>\n",
    "(B) `select first_name from people where first_name = 'eddard'` <br>\n",
    "(C) `SELECT first_name FROM people WHERE first_name = 'Eddard'` <br>\n",
    "(D) `select first_name from people where first_name = 'Eddard'`\n",
    "\n",
    "**EXERCISE 1:** Write a query that returns the first name of all living members of the ruling family of winterfell, but make sure the letters are all in lower case."
   ]
  },
  {
   "cell_type": "markdown",
   "metadata": {},
   "source": [
    "_Answer:_\n",
    "\n",
    "```MySQL\n",
    "SELECT p.first_name\n",
    "FROM people AS p\n",
    "    INNER JOIN houses AS h ON p.house = h.name\n",
    "WHERE h.domain = 'winterfell' AND p.alive = 1\n",
    "```"
   ]
  },
  {
   "cell_type": "markdown",
   "metadata": {},
   "source": [
    "### `UPPER()`\n",
    "For completeness, this is the same as the `.upper()` method for strings in Python used to capitalize every letter in a string\n",
    "\n",
    "_Example_: Capitalize all letters of the string `Hello World`\n",
    "```MySQL\n",
    "SELECT 'Hello, world!'\n",
    "```\n",
    "\n",
    "**EXERCISE 2:** Write a query that capitalizes every letter of every unique noble house's domain from the `houses` table."
   ]
  },
  {
   "cell_type": "markdown",
   "metadata": {},
   "source": [
    "_Answer:_\n",
    "\n",
    "```MySQL\n",
    "SELECT UPPER(h.name)\n",
    "FROM houses AS h\n",
    "```"
   ]
  },
  {
   "cell_type": "markdown",
   "metadata": {},
   "source": [
    "### `INITCAP()`\n",
    "This is the same as the `.capitalize()` method for strings in Python that is used to convert the first letter to upper case.\n",
    "\n",
    "**EXERCISE 3:** Write a SQL query that returns the first name and houses of all characters whose first name begins with the prefix \"ae-\" or \"Ae-\", but make sure that the only the first letter is capitalized in both of those columns."
   ]
  },
  {
   "cell_type": "markdown",
   "metadata": {},
   "source": [
    "```MySQL\n",
    "SELECT INITCAP(c.first_name), INITCAP(c.house)\n",
    "FROM people AS c\n",
    "WHERE c.first_name ILIKE 'ae%'\n",
    "```"
   ]
  },
  {
   "cell_type": "markdown",
   "metadata": {},
   "source": [
    "### `LENGTH()`\n",
    "This is the same as the `len()` function in Python. However, since we don't have lists or tuples in SQL, this is only applicable to objects with characters.\n",
    "\n",
    "**EXERCISE 4:** Write a query that displays the first name and house of characters that are alive, but only if their house is at least 6 characters long. (_Hint: You'll need to group by `id`_)"
   ]
  },
  {
   "cell_type": "markdown",
   "metadata": {},
   "source": [
    "_Answer:_\n",
    "\n",
    "```MySQL\n",
    "SELECT p.first_name, p.house\n",
    "FROM people AS p\n",
    "WHERE p.alive = 1\n",
    "GROUP BY p.id\n",
    "HAVING LENGTH(p.house) >= 6\n",
    "```"
   ]
  },
  {
   "cell_type": "markdown",
   "metadata": {},
   "source": [
    "### `TRIM()`\n",
    "This is the same as the `.strip()` method for strings in Python that eliminates leading and trailing white spaces.\n",
    "\n",
    "_Example:_ Write a query that strips out the white space from the string `'     Hello, world!     '`\n",
    "\n",
    "```MySQL\n",
    "SELECT TRIM('     Hello, world!     ')\n",
    "```"
   ]
  },
  {
   "cell_type": "markdown",
   "metadata": {},
   "source": [
    "### `SUBSTRING()`\n",
    "Python doesn't have a function that extracts a substring since we can just do it by directly indexing through the string. If you're familiar with R though, then you'll recognize this is similar to the `substr()` function.\n",
    "\n",
    "Syntax for this function:\n",
    "\n",
    "```MySQL\n",
    "SELECT SUBSTRING(string_column FROM <start_position> FOR <num_characters_ahead>)\n",
    "```\n",
    "OR\n",
    "```MySQL\n",
    "SELECT SUBSTRING(string_column, <start_position>, <num_characters_ahead>)\n",
    "```"
   ]
  },
  {
   "cell_type": "markdown",
   "metadata": {},
   "source": [
    "**Example #1:**\n",
    "```MySQL\n",
    "SELECT SUBSTRING('Hello there, friend! Hehe.' FROM 1 FOR 5)\n",
    "```\n",
    "OR\n",
    "```MySQL\n",
    "SELECT SUBSTRING('Hello there, friend! Hehe.', 1, 5)\n",
    "```\n",
    "will return `'Hello'`\n",
    "\n",
    "**Example #2:**\n",
    "```MySQL\n",
    "SELECT SUBSTRING('Hello there, friend! Hehe.' FROM 14)\n",
    "```\n",
    "OR\n",
    "```MySQL\n",
    "SELECT SUBSTRING('Hello there, friend! Hehe.', 14)\n",
    "```\n",
    "will return `'friend! Hehe.`"
   ]
  },
  {
   "cell_type": "markdown",
   "metadata": {},
   "source": [
    "### Concatenation\n",
    "\n",
    "This is the equivalent of string concatenation in Python using `+`. The `+` in Python is replaced by `||` in PostgreSQL. Alternatively, you can use the `CONCAT()` function."
   ]
  },
  {
   "cell_type": "markdown",
   "metadata": {},
   "source": [
    "_Example:_ Write a query that prints every character's full name (i.e. first name then house)\n",
    "```MySQL\n",
    "SELECT INITCAP(p.first_name) || ' ' || INITCAP(p.house)\n",
    "FROM people p\n",
    "```\n",
    "\n",
    "**EXERCISE 5:** Write a query that automatically generates the sentence `<bannermen>'s army has <size> soldiers.`"
   ]
  },
  {
   "cell_type": "markdown",
   "metadata": {},
   "source": [
    "_Answer:_\n",
    "```MySQL\n",
    "SELECT INITCAP(b.name) || '''s army has ' || size || ' soldiers.'\n",
    "FROM bannermen b\n",
    "```"
   ]
  },
  {
   "cell_type": "markdown",
   "metadata": {},
   "source": [
    "### `REPLACE()`"
   ]
  },
  {
   "cell_type": "markdown",
   "metadata": {},
   "source": [
    "This is the equivalent of the `.replace()` method for strings in Python and the `gsub()` function in R."
   ]
  },
  {
   "cell_type": "markdown",
   "metadata": {},
   "source": [
    "_Example:_\n",
    "```MySQL\n",
    "SELECT house,\n",
    "       REPLACE(house, 'lannister', 'Evil Ducks') AS new_house -- replace all 'Lannister' with 'Evil Ducks' in house col\n",
    "FROM people\n",
    "```\n",
    "\n",
    "Does the function work when replacing `NULL` values though? Try this and let me know what you see\n",
    "```MySQL\n",
    "SELECT first_name,\n",
    "       REPLACE(nickname, NULL, 'missing') AS new_nickname\n",
    "FROM people\n",
    "```"
   ]
  },
  {
   "cell_type": "markdown",
   "metadata": {},
   "source": [
    "## `COALESCE()`\n",
    "This is an extremely powerful function that lets us handle missing values on a column-by-column basis.\n",
    "\n",
    "The syntax is pretty straight forward for this one: \n",
    "```MySQL\n",
    "COALESCE(<column_name>, <fill_value>)\n",
    "```\n",
    "\n",
    "Alright, your turn!\n",
    "\n",
    "**EXERCISE 6**: Write a query that prints every character's full name in one column and their nickname in another, but make sure to replace all `NULL` nicknames with `¯\\_(ツ)_/¯`."
   ]
  },
  {
   "cell_type": "markdown",
   "metadata": {},
   "source": [
    "_Answer:_\n",
    "```MySQL\n",
    "SELECT first_name,\n",
    "       COALESCE(nickname, '¯\\_(ツ)_/¯') AS cleaned_nickname\n",
    "FROM people\n",
    "```"
   ]
  },
  {
   "cell_type": "markdown",
   "metadata": {},
   "source": [
    "_____\n",
    "## II. Conditionals"
   ]
  },
  {
   "cell_type": "markdown",
   "metadata": {},
   "source": [
    "### Boolean Statements"
   ]
  },
  {
   "cell_type": "markdown",
   "metadata": {},
   "source": [
    "**Review Discussion:** What is a Boolean statement? Can you think of an example where you've used this before?\n",
    "\n",
    "We can also include Booleans to create dummy variables in SQL on the fly.\n",
    "\n",
    "_Example:_\n",
    "```MySQL\n",
    "SELECT  b.name,\n",
    "        b.size,\n",
    "        b.size >= 30 AS \"IsLarge\"\n",
    "FROM bannermen AS b\n",
    "```"
   ]
  },
  {
   "cell_type": "markdown",
   "metadata": {},
   "source": [
    "## `CASE WHEN`\n",
    "This is the equivalent of if-elif-else statements, except embedded into a query. This takes Boolean Statements to the next level by allowing you to customize what happens on a case-by-case basis\n",
    "\n",
    "_Example_: Write a query that groups bannermen army sizes into 'yuge' (35+), 'medium' (25-34), 'smol' (< 25) "
   ]
  },
  {
   "cell_type": "markdown",
   "metadata": {},
   "source": [
    "```MySQL\n",
    "SELECT  b.name,\n",
    "        b.size,\n",
    "        CASE WHEN b.size >= 35 THEN 'yuge'                 -- if\n",
    "             WHEN b.size BETWEEN 25 AND 34 THEN 'medium'   -- elif\n",
    "             ELSE 'smol'                                   -- else\n",
    "             END AS \"size_group\"                           -- end it! (and rename if you want)\n",
    "FROM bannermen AS b\n",
    "```"
   ]
  },
  {
   "cell_type": "markdown",
   "metadata": {},
   "source": [
    "## III. Date-Time Manipulation"
   ]
  },
  {
   "cell_type": "markdown",
   "metadata": {},
   "source": [
    "### Type Conversion\n",
    "_(Complete documentation here: https://www.postgresql.org/docs/8.1/functions-formatting.html)_"
   ]
  },
  {
   "cell_type": "markdown",
   "metadata": {},
   "source": [
    "#### `to_timestamp()`\n",
    "If you have a string that's both date and want to convert it to a datetime objecttime want the date and time,\n",
    "```MySQL\n",
    "SELECT to_timestamp('2019 May 13 15:00:05', 'YYYY-MON-DD HH24:MI:SS')\n",
    "```\n",
    "\n",
    "#### `to_date()`\n",
    "If you have a string where you want to convert to a date without any timestamp\n",
    "```MySQL\n",
    "SELECT to_date('2019 May 13 14:00:58', 'YYYY-MON-DD')\n",
    "```\n",
    "\n",
    "#### `current_date`\n",
    "You can use this to pull the current date from your computer's clock and manipulate it as you desired.\n",
    "```MySQL\n",
    "SELECT current_date\n",
    "```\n",
    "\n",
    "**EXERCISE 7:** Write a query that returns what the date was 21 days ago"
   ]
  },
  {
   "cell_type": "markdown",
   "metadata": {},
   "source": [
    "_Answer:_\n",
    "    \n",
    "```MySQL\n",
    "SELECT current_date - 21\n",
    "```"
   ]
  },
  {
   "cell_type": "markdown",
   "metadata": {},
   "source": [
    "### `EXTRACT()`\n",
    "_(More datetime manipulation functions: https://www.postgresql.org/docs/9.1/functions-datetime.html)_\n",
    "\n",
    "If you want to extract certain parts of a datetime object, this function is MAGICAL!\n",
    "\n",
    "```MySQL\n",
    "SELECT current_timestamp AS today,\n",
    "\t   EXTRACT(day from current_date) AS \"Day\",\n",
    "\t   EXTRACT(month from current_date) AS \"Month\",\n",
    "\t   EXTRACT(year from current_timestamp) AS \"Year\",\n",
    "\t   EXTRACT(hour from current_timestamp) AS \"Hour\",\n",
    "\t   EXTRACT(minute from current_timestamp) AS \"Minute\"\n",
    "```\n",
    "\n",
    "### Challenge: Interview Questions\n",
    "Lyft recently acquired the rights to add CitiBike to its app as part of its Bikes & Scooters business. You are a Data Scientist studying a `rides` table containing data on completed trips taken by riders, and a `deployed_bikes` table which contains information on the locations where each unique bike is deployed (i.e. where it is stationed).\n",
    "\n",
    "**`rides`** schema: \n",
    "- `ride_id`: int **[PRIMARY KEY]**\n",
    "- `bike_id`: int\n",
    "- `ride_datetime`: string\n",
    "- `duration`: int\n",
    "\n",
    "**`deployed_bikes`** schema:\n",
    "- `bike_id`: int **[PRIMARY KEY]**\n",
    "- `deploy_location`: string\n",
    "\n",
    "**EXERCISE 8: For the last week, find the number of rides that occured on each date, ordered from most recent to least recent**"
   ]
  },
  {
   "cell_type": "markdown",
   "metadata": {},
   "source": [
    "_Answer:_\n",
    "```MySQL\n",
    "SELECT  ride_date,\n",
    "        COUNT(ride_id)\n",
    "FROM rides\n",
    "WHERE to_date(ride_date, 'YYYY-MON-DD') BETWEEN (current_date - 7) AND current_date\n",
    "GROUP BY ride_date\n",
    "ORDER BY ride_date DESC\n",
    "```"
   ]
  },
  {
   "cell_type": "markdown",
   "metadata": {},
   "source": [
    "**EXERCISE 9: Which deployment location did the best over the past week?**"
   ]
  },
  {
   "cell_type": "markdown",
   "metadata": {},
   "source": [
    "_Answer:_\n",
    "    \n",
    "```MySQL\n",
    "SELECT  d.deploy_location,\n",
    "        COUNT(r.ride_id)\n",
    "FROM rides AS r\n",
    "    INNER JOIN deployed_bikes AS d ON r.bike_id = d.bike_id\n",
    "WHERE to_date(ride_date, 'YYYY-MON-DD') BETWEEN (current_date - 7) AND current_date\n",
    "GROUP BY d.deploy_location\n",
    "ORDER BY COUNT(ride_id) DESC\n",
    "LIMIT 1\n",
    "```"
   ]
  }
 ],
 "metadata": {
  "kernelspec": {
   "display_name": "Python 3",
   "language": "python",
   "name": "python3"
  },
  "language_info": {
   "codemirror_mode": {
    "name": "ipython",
    "version": 3
   },
   "file_extension": ".py",
   "mimetype": "text/x-python",
   "name": "python",
   "nbconvert_exporter": "python",
   "pygments_lexer": "ipython3",
   "version": "3.6.8"
  }
 },
 "nbformat": 4,
 "nbformat_minor": 2
}
