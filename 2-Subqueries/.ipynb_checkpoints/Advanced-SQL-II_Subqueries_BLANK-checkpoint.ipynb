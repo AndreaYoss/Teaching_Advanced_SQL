{
 "cells": [
  {
   "cell_type": "markdown",
   "metadata": {},
   "source": [
    "# Advanced SQL II: Subqueries\n",
    "_**Author**: Boom Devahastin Na Ayudhya_\n",
    "***"
   ]
  },
  {
   "cell_type": "markdown",
   "metadata": {},
   "source": [
    "## Additional Learning Tools after the course"
   ]
  },
  {
   "cell_type": "markdown",
   "metadata": {},
   "source": [
    "The dataset I've used for this lesson is from [Udemy's Master SQL for Data Science](https://www.udemy.com/master-sql-for-data-science/learn/lecture/9790570#overview) course. In the repo, you should copy and paste the database construction queries from the `employees_udemy.txt` script into PostgreSQL if you wish to explore the dataset on your own."
   ]
  },
  {
   "cell_type": "markdown",
   "metadata": {},
   "source": [
    "## What is a subquery?\n",
    "\n",
    "Exactly what it sounds like: literally inception because **it's a query within a query**!\n",
    "\n",
    "...What?! Sounds complicated...why do we need this?"
   ]
  },
  {
   "cell_type": "markdown",
   "metadata": {},
   "source": [
    "**Motivation:** The `employees` table has a department column amongst other employee-specific information. The `departments` table shows information on each of the departments. However, some departments have recently turned over their entire team and so there may not be any employees listed in those departments. How can we figure out which departments did this?\n",
    "\n",
    "TL;DR - How do we determine which departments exist in the `employees` table but not the `departments` table? Think through the logic in English first before you attempt to convert it to code.\n",
    "\n",
    "_**DO NOT USE JOINS - we'll talk about why not in a bit!**_"
   ]
  },
  {
   "cell_type": "markdown",
   "metadata": {},
   "source": [
    "_Answer:_\n",
    "\n",
    "```MySQL\n",
    "```"
   ]
  },
  {
   "cell_type": "markdown",
   "metadata": {},
   "source": [
    "### Subqueries in `WHERE`"
   ]
  },
  {
   "cell_type": "markdown",
   "metadata": {},
   "source": [
    "How did we think about this?\n",
    "- The output of a subquery is a \"dataframe\" (or rather a subset of a table).\n",
    "- If we choose to extract just one column from a table using a query, we essentially have a list\n",
    "- We've written WHERE statements before with `IN` and `NOT IN` and compared results to a list\n",
    "- Connecting the dots: we can replace the list in a WHERE clause with a subquery to make things more dynamic"
   ]
  },
  {
   "cell_type": "markdown",
   "metadata": {},
   "source": [
    "**Exercise 1:** Write a query that returns all information about employees who work in the Electronics division."
   ]
  },
  {
   "cell_type": "markdown",
   "metadata": {},
   "source": [
    "_Answer:_\n",
    "```MySQL\n",
    "\n",
    "```"
   ]
  },
  {
   "cell_type": "markdown",
   "metadata": {},
   "source": [
    "**Exercise 2:** Switching back to tables in the the `GoT_schema.txt` file now. Write a query that shows the name of characters (in the `people` table) who are not from any of the great noble houses (in the `houses` table)."
   ]
  },
  {
   "cell_type": "markdown",
   "metadata": {},
   "source": [
    "_Answer:_\n",
    "```MySQL\n",
    "```"
   ]
  },
  {
   "cell_type": "markdown",
   "metadata": {},
   "source": [
    "**Exercise 3:** You might have noticed there are some noble houses that do not have any bannermen. Write a query that shows the name of the great noble houses without any bannermen (vassal houses) serving them."
   ]
  },
  {
   "cell_type": "markdown",
   "metadata": {},
   "source": [
    "_Answer:_\n",
    "```MySQL\n",
    "\n",
    "```"
   ]
  },
  {
   "cell_type": "markdown",
   "metadata": {},
   "source": [
    "_**Short Note on Efficient Queries**_\n",
    "\n",
    "Some `JOIN` commands (especially `INNER JOIN`) can be very computationally intensive. This is why sometimes we would prefer to write subqueries.\n",
    "\n",
    "_Example:_ Without using any kind of`JOIN`, find all employees who work in the Asia and Canada regions who make more than 13,000 dollars.\n",
    "\n",
    "```MySQL\n",
    "SELECT * from employees\n",
    "WHERE salary > 13000\n",
    "AND region_id IN (SELECT region_id\n",
    "                  FROM regions\n",
    "                  WHERE country IN ('Asia', 'Canada'))\n",
    "```"
   ]
  },
  {
   "cell_type": "markdown",
   "metadata": {},
   "source": [
    "### Subqueries in `SELECT`"
   ]
  },
  {
   "cell_type": "markdown",
   "metadata": {},
   "source": [
    "Subqueries can show up almost anywhere in the query! If we want to compare values to a single value, we could include the result of a subquery in the `SELECT` clause. This is especially important when you want to construct some sort of **_benchmark_** (e.g. how much you have missed/beaten a sales target by, what the active returns of a mutual fund is compared to its benchmark index, etc.)  \n",
    "\n",
    "_Example:_ Show me the first_name, last_name, and salary of all employees next to the salary of the employee who earns the least at the company.\n",
    "\n",
    "```MySQL\n",
    "SELECT  first_name,\n",
    "        department,\n",
    "        salary,\n",
    "        (SELECT MIN(salary) FROM employees) AS \"lowest_salary\"\n",
    "FROM employees\n",
    "```"
   ]
  },
  {
   "cell_type": "markdown",
   "metadata": {},
   "source": [
    "#### _Short Note on Order of Execution in SQL Queries_\n",
    "Across clauses, there is a sequence that queries follow. SQL queries will run FROM first, then WHERE and other filters, and then SELECT last. So in the exercise **below**, the `lowest_salary` is already going to be calculated based on Asia and Canada employees because WHERE executes before SELECT\n",
    "\n",
    "However, within a clause (e.g. within SELECT) everything runs _**simultaneously**_, not sequentially! So you cannot use `lowest_salary` in say a calculation for \"difference\" -- you will need to use the actual subquery in the calculation."
   ]
  },
  {
   "cell_type": "markdown",
   "metadata": {},
   "source": [
    "**Exercise 4:** Among all employees who work in Asia and Canada, calculate the how much less each employee makes compared to the highest earner across those regions."
   ]
  },
  {
   "cell_type": "markdown",
   "metadata": {},
   "source": [
    "_Answer:_\n",
    "```MySQL\n",
    "```"
   ]
  },
  {
   "cell_type": "markdown",
   "metadata": {},
   "source": [
    "### Subqueries using `ALL` keyword"
   ]
  },
  {
   "cell_type": "markdown",
   "metadata": {},
   "source": [
    "**Motivation:** We've learned convenient functions like `MAX` and `MIN` which helps us find the highest or lowest value in a field/column.\n",
    "\n",
    "```MySQL\n",
    "SELECT MAX(salary) FROM employees\n",
    "```\n",
    "\n",
    "What if your interviewer asked you to find the highest salary of all employees in the company **WITHOUT** using any built in SQL functions though?\n",
    "\n",
    "```MySQL\n",
    "SELECT salary\n",
    "FROM employees\n",
    "WHERE salary >= ALL(SELECT salary\n",
    "                    FROM employees)\n",
    "```"
   ]
  },
  {
   "cell_type": "markdown",
   "metadata": {},
   "source": [
    "Interview aside though, here's a more practical problem. You're not going to be able to use MAX or MIN when it comes to this situation:\n",
    "\n",
    "**Exercise 5:** Find the mode salar(ies) of all employees in the company."
   ]
  },
  {
   "cell_type": "markdown",
   "metadata": {},
   "source": [
    "_Answer:_\n",
    "```MySQL\n",
    "\n",
    "```"
   ]
  },
  {
   "cell_type": "markdown",
   "metadata": {},
   "source": [
    "### Challenge Interview Question \\#1\n",
    "\n",
    "A retailer store information about all of its products in a `Products` table, which contain the following columns:\n",
    "- `id`: the unique identification number for the product\n",
    "- `name`: the name the product\n",
    "- `manuf_id`: the identification number of the manufacturer we acquired this from\n",
    "- `grade`: the quality score on a scale of 1 (bad) to 100 (good) of the product according to reviews.\n",
    "\n",
    "Write a SQL query that returns the names of all products (there are ties) that have the **_SECOND_ lowest** score."
   ]
  },
  {
   "cell_type": "markdown",
   "metadata": {},
   "source": [
    "_Answer:_\n"
   ]
  },
  {
   "cell_type": "markdown",
   "metadata": {},
   "source": [
    "### Challenge Interview Question \\#2\n",
    "\n",
    "A table called `eval` has 3 columns: <br>\n",
    "- case_id (int) <br>\n",
    "- timestamp (datetime) <br>\n",
    "- score (int) <br>\n",
    "\n",
    "But case_id is not unique. For a given case_id, there may be scores on different dates.\n",
    "\n",
    "Write a query to get the score for each case_id at most recent date."
   ]
  },
  {
   "cell_type": "markdown",
   "metadata": {},
   "source": [
    "_Answer:_\n",
    "\n",
    "```MySQL\n",
    "\n",
    "```"
   ]
  },
  {
   "cell_type": "markdown",
   "metadata": {},
   "source": [
    "**_Need some help?_** While it is probably better that you do this under interview conditions (i.e. no help from pgAdmin), the option is there if you want to use this code to construct the database and visualize the outputs of your queries\n",
    "\n",
    "```MySQL\n",
    "create table eval (\n",
    "\tcase_id int,\n",
    "\ttimestamp date,\n",
    "\tscore int);\n",
    "\n",
    "insert into eval values (123, '2019-05-09', 7);\n",
    "insert into eval values (123, '2019-05-03', 6);\n",
    "insert into eval values (456, '2019-05-07', 1);\n",
    "insert into eval values (789, '2019-05-06', 3);\n",
    "insert into eval values (456, '2019-05-02', 9);\n",
    "insert into eval values (789, '2019-05-08', 2);```"
   ]
  }
 ],
 "metadata": {
  "kernelspec": {
   "display_name": "Python 3",
   "language": "python",
   "name": "python3"
  },
  "language_info": {
   "codemirror_mode": {
    "name": "ipython",
    "version": 3
   },
   "file_extension": ".py",
   "mimetype": "text/x-python",
   "name": "python",
   "nbconvert_exporter": "python",
   "pygments_lexer": "ipython3",
   "version": "3.7.1"
  }
 },
 "nbformat": 4,
 "nbformat_minor": 2
}
